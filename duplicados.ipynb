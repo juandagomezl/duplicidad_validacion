{
 "cells": [
  {
   "cell_type": "code",
   "execution_count": 14,
   "metadata": {},
   "outputs": [],
   "source": [
    "import pandas as pd\n",
    "import numpy as np\n",
    "from datetime import datetime"
   ]
  },
  {
   "cell_type": "code",
   "execution_count": 31,
   "metadata": {},
   "outputs": [
    {
     "name": "stdout",
     "output_type": "stream",
     "text": [
      "2021-01-28\n",
      "10\n",
      "21\n",
      "2021-01-28-10\n"
     ]
    }
   ],
   "source": [
    "\n",
    "\n",
    "#Fecha actual\n",
    "now = datetime.now()\n",
    "\n",
    "\n",
    "now_1 = str(now)[:10]\n",
    "now_2 = str(now)[11:13]\n",
    "now_3 = str(now)[14:16]\n",
    "print(now_1)\n",
    "print(now_2)\n",
    "print(now_3)\n",
    "\n",
    "now = f\"{now_1}-{now_2}-{now_3}\"\n",
    "print(now)"
   ]
  },
  {
   "cell_type": "code",
   "execution_count": 2,
   "metadata": {},
   "outputs": [],
   "source": [
    "duplicados = pd.read_excel('Cruce78.xlsx')\n",
    "copia = duplicados.copy()"
   ]
  },
  {
   "cell_type": "code",
   "execution_count": 13,
   "metadata": {},
   "outputs": [
    {
     "data": {
      "text/plain": [
       "0          8452002220\n",
       "1        677200562020\n",
       "2          6772007920\n",
       "3        677200182020\n",
       "4          8472002520\n",
       "             ...     \n",
       "26888    677200562020\n",
       "26889    727201242020\n",
       "26890    727201292020\n",
       "26891    727201052020\n",
       "26892    727200882020\n",
       "Name: Identificación del Contrato, Length: 26893, dtype: object"
      ]
     },
     "execution_count": 13,
     "metadata": {},
     "output_type": "execute_result"
    }
   ],
   "source": [
    "duplicados['Identificación del Contrato']"
   ]
  },
  {
   "cell_type": "code",
   "execution_count": 4,
   "metadata": {},
   "outputs": [],
   "source": [
    "\n",
    "duplicados['Código Departamento DANE'] = duplicados['Código Departamento DANE'].astype(str)\n",
    "duplicados['Código Municipio DANE'] = duplicados['Código Municipio DANE'].astype(str)\n",
    "duplicados['Código de Habilitación del Prestador'] = duplicados['Código de Habilitación del Prestador'].astype(str)\n",
    "duplicados['Nombre del (os) Municio(s) que Acceden a  los Servicios Contratados'] = duplicados['Nombre del (os) Municio(s) que Acceden a  los Servicios Contratados'].astype(str)\n"
   ]
  },
  {
   "cell_type": "code",
   "execution_count": 5,
   "metadata": {},
   "outputs": [],
   "source": [
    "duplicados['Código Departamento DANE'] = duplicados['Código Departamento DANE'].apply(lambda x: f\"0{x}\" if len(x) == 1 else x)\n",
    "duplicados['Código Municipio DANE'] = duplicados['Código Municipio DANE'].apply(lambda x: f\"0{x}\" if len(x) < 5 else x)\n",
    "duplicados['Código de Habilitación del Prestador'] = duplicados['Código de Habilitación del Prestador'].apply(lambda x: f\"0{x}\" if len(x) < 12 else x)\n",
    "duplicados['Nombre del (os) Municio(s) que Acceden a  los Servicios Contratados'] = duplicados['Nombre del (os) Municio(s) que Acceden a  los Servicios Contratados'].apply(lambda x: f\"0{x}\" if len(x) < 5 else x)"
   ]
  },
  {
   "cell_type": "code",
   "execution_count": 6,
   "metadata": {},
   "outputs": [
    {
     "data": {
      "text/plain": [
       "0          8452002220\n",
       "1        677200562020\n",
       "2          6772007920\n",
       "3        677200182020\n",
       "4          8472002520\n",
       "             ...     \n",
       "26888    677200562020\n",
       "26889    727201242020\n",
       "26890    727201292020\n",
       "26891    727201052020\n",
       "26892    727200882020\n",
       "Name: Identificación del Contrato, Length: 26893, dtype: object"
      ]
     },
     "execution_count": 6,
     "metadata": {},
     "output_type": "execute_result"
    }
   ],
   "source": [
    "duplicados['Identificación del Contrato']"
   ]
  },
  {
   "cell_type": "code",
   "execution_count": 7,
   "metadata": {},
   "outputs": [
    {
     "data": {
      "text/plain": [
       "0             48506\n",
       "1             48507\n",
       "2             48508\n",
       "3             48510\n",
       "4             53059\n",
       "           ...     \n",
       "868    10372019120 \n",
       "869    237200482020\n",
       "870           48511\n",
       "871           53060\n",
       "872           53061\n",
       "Name: Identificacion del Contrato, Length: 873, dtype: object"
      ]
     },
     "execution_count": 7,
     "metadata": {},
     "output_type": "execute_result"
    }
   ],
   "source": [
    "unicos = pd.read_excel('834300413144432020ST010 base.xlsx')\n",
    "\n",
    "unicos['Identificacion del Contrato'] = unicos['Identificacion del Contrato'].astype(str)\n",
    "\n",
    "\n",
    "duplicados['Identificación del Contrato'] = duplicados['Identificación del Contrato'].astype(str)\n",
    "lista_contratos = unicos['Identificacion del Contrato'].to_list()\n",
    "duplicados['valido_invalido'] = duplicados['Identificación del Contrato'].apply(lambda x:1 if str(x) in lista_contratos else 0 )\n",
    "unicos['Identificacion del Contrato']"
   ]
  },
  {
   "cell_type": "code",
   "execution_count": 8,
   "metadata": {},
   "outputs": [],
   "source": [
    "duplicados_ok = duplicados[duplicados['valido_invalido'] == 1]\n",
    "duplicados_off = duplicados[duplicados['valido_invalido'] == 0]\n",
    "del duplicados_ok['valido_invalido']\n",
    "del duplicados_off['valido_invalido']\n",
    "\n",
    "\n",
    "\n",
    "del duplicados_ok['Fecha de Inicio del Contrato']\n",
    "del duplicados_ok['Fecha de Terminación del Contrato']\n",
    "del duplicados_ok['Renovación Automática']\n",
    "del duplicados_ok['Tipo de Contratación']\n",
    "del duplicados_ok['Otro Tipo de Contrato']\n",
    "del duplicados_ok['Modificación al Contrato']\n",
    "del duplicados_ok['Tipo de Modificación al Contrato']\n",
    "del duplicados_ok['Estado del Contrato']\n",
    "\n",
    "del unicos['Tipo de Reporte']\n",
    "del unicos['Linea de Negocio']\n",
    "del unicos['Regimen']\n",
    "del unicos['Tipo de Identificacion del Proveedor']\n",
    "del unicos['Numero de Identificacion del Proveedor']\n",
    "del unicos['Tipo de Producto o Servicio']\n",
    "del unicos['Tipo de Relacion Contractual']\n",
    "del unicos['Poliza de Cumplimiento']\n",
    "del unicos['Poblacion Total Cubierta por el Contrato']"
   ]
  },
  {
   "cell_type": "code",
   "execution_count": 9,
   "metadata": {},
   "outputs": [
    {
     "data": {
      "text/plain": [
       "Index(['ID', 'Regional de Aseguramiento en Salud',\n",
       "       'Unidad Prestadora de Salud', 'Departamento DANE', 'Munipio DANE',\n",
       "       'Código Departamento DANE', 'Código Municipio DANE', 'Tipo de Reporte',\n",
       "       'Línea de Negocio', 'Tipo de Identificación del Proveedor',\n",
       "       'Número de Identificación del Proveedor ',\n",
       "       'Código de Habilitación del Prestador', 'Nombre del Prestador',\n",
       "       'Componente', 'Complejidad del Servicio Contratado',\n",
       "       'Modalidad del Servicio Contratado', 'Grupo de Servicio Contratado',\n",
       "       'Nombre del Servicio Contratado', 'Código del Servicio Contratado',\n",
       "       'Tipo de Producto o Servicio', 'Tipo de Relación Contractual',\n",
       "       'Póliza de Cumplimiento',\n",
       "       'Número Total de Usuarios Cubiertos por el Contrato',\n",
       "       'Nombre del (os) Municio(s) que Acceden a  los Servicios Contratados',\n",
       "       'Nueva Fecha de Terminación', 'Valor Inicial del Contrato',\n",
       "       'Valor Adicional si fue Modificado', 'Valor Ejecutado a la Fecha',\n",
       "       'Manual Tarifario', 'Identificacion del Contrato',\n",
       "       'Fecha de Inicio del contrato', 'Fecha de Terminacion del contrato',\n",
       "       'Renovacion Automatica', 'Tipo de Contratacion',\n",
       "       'Otro Tipo de Contrato', 'Modificacion al Contrato',\n",
       "       'Tipo de Modificacion', 'Valor Estimado del Contrato',\n",
       "       'Estado del contrato'],\n",
       "      dtype='object')"
      ]
     },
     "execution_count": 9,
     "metadata": {},
     "output_type": "execute_result"
    }
   ],
   "source": [
    "duplicados_ok = duplicados_ok.merge(unicos, how='left',left_on = ['Identificación del Contrato'], right_on=['Identificacion del Contrato'])\n",
    "del duplicados_ok['Identificación del Contrato']\n",
    "duplicados_ok.columns"
   ]
  },
  {
   "cell_type": "code",
   "execution_count": 10,
   "metadata": {},
   "outputs": [],
   "source": [
    "duplicados_ok.to_excel(\"78_corregido.xlsx\",\n",
    "             sheet_name='Hoja1', index=False) "
   ]
  },
  {
   "cell_type": "code",
   "execution_count": 11,
   "metadata": {},
   "outputs": [],
   "source": [
    "duplicados_off.to_excel(\"78_borrados.xlsx\",\n",
    "             sheet_name='Hoja1', index=False)"
   ]
  }
 ],
 "metadata": {
  "kernelspec": {
   "display_name": "Python 3",
   "language": "python",
   "name": "python3"
  },
  "language_info": {
   "codemirror_mode": {
    "name": "ipython",
    "version": 3
   },
   "file_extension": ".py",
   "mimetype": "text/x-python",
   "name": "python",
   "nbconvert_exporter": "python",
   "pygments_lexer": "ipython3",
   "version": "3.8.3"
  }
 },
 "nbformat": 4,
 "nbformat_minor": 4
}
